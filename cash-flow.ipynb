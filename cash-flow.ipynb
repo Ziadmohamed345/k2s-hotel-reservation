{
 "cells": [
  {
   "cell_type": "code",
   "execution_count": 74,
   "metadata": {},
   "outputs": [],
   "source": [
    "import pandas as pd\n",
    "import numpy as np"
   ]
  },
  {
   "cell_type": "code",
   "execution_count": 75,
   "metadata": {},
   "outputs": [
    {
     "data": {
      "text/plain": [
       "Index(['Reservation ID', 'Reservation Creation Date (DD-MM-YYYY)',\n",
       "       'Reservation Check-in Date', 'Reservation Check-out Date ',\n",
       "       'Reservation Total Price ', '#Rooms', 'Cancellation Date',\n",
       "       'Type\\nallotment (1),  sales allotment (2), direct hotel (3)or direct agent(4)'],\n",
       "      dtype='object')"
      ]
     },
     "execution_count": 75,
     "metadata": {},
     "output_type": "execute_result"
    }
   ],
   "source": [
    "df = pd.read_excel('./RequiredData.xlsx', sheet_name=\"Reservation List\")\n",
    "df.columns"
   ]
  },
  {
   "cell_type": "code",
   "execution_count": 76,
   "metadata": {},
   "outputs": [],
   "source": [
    "df.columns = ['rid', 'cr_date', 'ci_date', 'co_date', 'tot_price', 'num_rooms', 'cancel_date', 'res_type']"
   ]
  },
  {
   "cell_type": "code",
   "execution_count": 77,
   "metadata": {},
   "outputs": [
    {
     "data": {
      "text/html": [
       "<div>\n",
       "<style scoped>\n",
       "    .dataframe tbody tr th:only-of-type {\n",
       "        vertical-align: middle;\n",
       "    }\n",
       "\n",
       "    .dataframe tbody tr th {\n",
       "        vertical-align: top;\n",
       "    }\n",
       "\n",
       "    .dataframe thead th {\n",
       "        text-align: right;\n",
       "    }\n",
       "</style>\n",
       "<table border=\"1\" class=\"dataframe\">\n",
       "  <thead>\n",
       "    <tr style=\"text-align: right;\">\n",
       "      <th></th>\n",
       "      <th>rid</th>\n",
       "      <th>cr_date</th>\n",
       "      <th>ci_date</th>\n",
       "      <th>co_date</th>\n",
       "      <th>tot_price</th>\n",
       "      <th>num_rooms</th>\n",
       "      <th>cancel_date</th>\n",
       "      <th>res_type</th>\n",
       "    </tr>\n",
       "  </thead>\n",
       "  <tbody>\n",
       "    <tr>\n",
       "      <th>0</th>\n",
       "      <td>1</td>\n",
       "      <td>2023-01-01</td>\n",
       "      <td>2023-01-05 00:00:00</td>\n",
       "      <td>2023-12-05 00:00:00</td>\n",
       "      <td>24000</td>\n",
       "      <td>10</td>\n",
       "      <td>NaN</td>\n",
       "      <td>1</td>\n",
       "    </tr>\n",
       "    <tr>\n",
       "      <th>1</th>\n",
       "      <td>2</td>\n",
       "      <td>2023-01-01</td>\n",
       "      <td>2023-04-05 00:00:00</td>\n",
       "      <td>2023-09-05 00:00:00</td>\n",
       "      <td>5000</td>\n",
       "      <td>5</td>\n",
       "      <td>NaN</td>\n",
       "      <td>1</td>\n",
       "    </tr>\n",
       "    <tr>\n",
       "      <th>2</th>\n",
       "      <td>3</td>\n",
       "      <td>2023-01-01</td>\n",
       "      <td>2023-09-08 00:00:00</td>\n",
       "      <td>2023-10-08 00:00:00</td>\n",
       "      <td>200</td>\n",
       "      <td>5</td>\n",
       "      <td>NaN</td>\n",
       "      <td>1</td>\n",
       "    </tr>\n",
       "    <tr>\n",
       "      <th>3</th>\n",
       "      <td>4</td>\n",
       "      <td>2023-02-01</td>\n",
       "      <td>2023-07-09 00:00:00</td>\n",
       "      <td>16/9/2023</td>\n",
       "      <td>7200</td>\n",
       "      <td>4</td>\n",
       "      <td>2023-06-08 00:00:00</td>\n",
       "      <td>1</td>\n",
       "    </tr>\n",
       "    <tr>\n",
       "      <th>4</th>\n",
       "      <td>5</td>\n",
       "      <td>2023-02-01</td>\n",
       "      <td>2023-09-01 00:00:00</td>\n",
       "      <td>2023-12-01 00:00:00</td>\n",
       "      <td>81400</td>\n",
       "      <td>20</td>\n",
       "      <td>NaN</td>\n",
       "      <td>2</td>\n",
       "    </tr>\n",
       "  </tbody>\n",
       "</table>\n",
       "</div>"
      ],
      "text/plain": [
       "   rid    cr_date              ci_date              co_date  tot_price  \\\n",
       "0    1 2023-01-01  2023-01-05 00:00:00  2023-12-05 00:00:00      24000   \n",
       "1    2 2023-01-01  2023-04-05 00:00:00  2023-09-05 00:00:00       5000   \n",
       "2    3 2023-01-01  2023-09-08 00:00:00  2023-10-08 00:00:00        200   \n",
       "3    4 2023-02-01  2023-07-09 00:00:00            16/9/2023       7200   \n",
       "4    5 2023-02-01  2023-09-01 00:00:00  2023-12-01 00:00:00      81400   \n",
       "\n",
       "   num_rooms          cancel_date  res_type  \n",
       "0         10                  NaN         1  \n",
       "1          5                  NaN         1  \n",
       "2          5                  NaN         1  \n",
       "3          4  2023-06-08 00:00:00         1  \n",
       "4         20                  NaN         2  "
      ]
     },
     "execution_count": 77,
     "metadata": {},
     "output_type": "execute_result"
    }
   ],
   "source": [
    "df.head()"
   ]
  },
  {
   "cell_type": "code",
   "execution_count": 78,
   "metadata": {},
   "outputs": [],
   "source": [
    "def convert_to_datetime(df, inplace=True):\n",
    "    if not inplace:\n",
    "        df = df.copy()\n",
    "    for column in df.columns:\n",
    "        if 'date' in column:\n",
    "            df[column] = pd.to_datetime(df[column])\n",
    "    if inplace:\n",
    "        return\n",
    "    else:\n",
    "        return df"
   ]
  },
  {
   "cell_type": "code",
   "execution_count": 79,
   "metadata": {},
   "outputs": [],
   "source": [
    "convert_to_datetime(df, inplace=True)"
   ]
  },
  {
   "cell_type": "code",
   "execution_count": 80,
   "metadata": {},
   "outputs": [],
   "source": [
    "df.sort_values('cr_date', inplace=True)"
   ]
  },
  {
   "cell_type": "code",
   "execution_count": 81,
   "metadata": {},
   "outputs": [
    {
     "data": {
      "text/html": [
       "<div>\n",
       "<style scoped>\n",
       "    .dataframe tbody tr th:only-of-type {\n",
       "        vertical-align: middle;\n",
       "    }\n",
       "\n",
       "    .dataframe tbody tr th {\n",
       "        vertical-align: top;\n",
       "    }\n",
       "\n",
       "    .dataframe thead th {\n",
       "        text-align: right;\n",
       "    }\n",
       "</style>\n",
       "<table border=\"1\" class=\"dataframe\">\n",
       "  <thead>\n",
       "    <tr style=\"text-align: right;\">\n",
       "      <th></th>\n",
       "      <th>rid</th>\n",
       "      <th>cr_date</th>\n",
       "      <th>ci_date</th>\n",
       "      <th>co_date</th>\n",
       "      <th>tot_price</th>\n",
       "      <th>num_rooms</th>\n",
       "      <th>cancel_date</th>\n",
       "      <th>res_type</th>\n",
       "    </tr>\n",
       "  </thead>\n",
       "  <tbody>\n",
       "    <tr>\n",
       "      <th>0</th>\n",
       "      <td>1</td>\n",
       "      <td>2023-01-01</td>\n",
       "      <td>2023-01-05</td>\n",
       "      <td>2023-12-05</td>\n",
       "      <td>24000</td>\n",
       "      <td>10</td>\n",
       "      <td>NaT</td>\n",
       "      <td>1</td>\n",
       "    </tr>\n",
       "    <tr>\n",
       "      <th>1</th>\n",
       "      <td>2</td>\n",
       "      <td>2023-01-01</td>\n",
       "      <td>2023-04-05</td>\n",
       "      <td>2023-09-05</td>\n",
       "      <td>5000</td>\n",
       "      <td>5</td>\n",
       "      <td>NaT</td>\n",
       "      <td>1</td>\n",
       "    </tr>\n",
       "    <tr>\n",
       "      <th>2</th>\n",
       "      <td>3</td>\n",
       "      <td>2023-01-01</td>\n",
       "      <td>2023-09-08</td>\n",
       "      <td>2023-10-08</td>\n",
       "      <td>200</td>\n",
       "      <td>5</td>\n",
       "      <td>NaT</td>\n",
       "      <td>1</td>\n",
       "    </tr>\n",
       "    <tr>\n",
       "      <th>3</th>\n",
       "      <td>4</td>\n",
       "      <td>2023-02-01</td>\n",
       "      <td>2023-07-09</td>\n",
       "      <td>2023-09-16</td>\n",
       "      <td>7200</td>\n",
       "      <td>4</td>\n",
       "      <td>2023-06-08</td>\n",
       "      <td>1</td>\n",
       "    </tr>\n",
       "    <tr>\n",
       "      <th>4</th>\n",
       "      <td>5</td>\n",
       "      <td>2023-02-01</td>\n",
       "      <td>2023-09-01</td>\n",
       "      <td>2023-12-01</td>\n",
       "      <td>81400</td>\n",
       "      <td>20</td>\n",
       "      <td>NaT</td>\n",
       "      <td>2</td>\n",
       "    </tr>\n",
       "  </tbody>\n",
       "</table>\n",
       "</div>"
      ],
      "text/plain": [
       "   rid    cr_date    ci_date    co_date  tot_price  num_rooms cancel_date  \\\n",
       "0    1 2023-01-01 2023-01-05 2023-12-05      24000         10         NaT   \n",
       "1    2 2023-01-01 2023-04-05 2023-09-05       5000          5         NaT   \n",
       "2    3 2023-01-01 2023-09-08 2023-10-08        200          5         NaT   \n",
       "3    4 2023-02-01 2023-07-09 2023-09-16       7200          4  2023-06-08   \n",
       "4    5 2023-02-01 2023-09-01 2023-12-01      81400         20         NaT   \n",
       "\n",
       "   res_type  \n",
       "0         1  \n",
       "1         1  \n",
       "2         1  \n",
       "3         1  \n",
       "4         2  "
      ]
     },
     "execution_count": 81,
     "metadata": {},
     "output_type": "execute_result"
    }
   ],
   "source": [
    "df.head()"
   ]
  },
  {
   "cell_type": "code",
   "execution_count": 82,
   "metadata": {},
   "outputs": [],
   "source": [
    "def get_cancel_dates(df):\n",
    "    cancel_dates_to_res_total_and_pay_amount = {}\n",
    "    for index, row in df.iterrows():\n",
    "        \n",
    "        cancel_dt = row['cancel_date']\n",
    "        if cancel_dt is pd.NaT:\n",
    "            continue\n",
    "        if cancel_dt not in cancel_dates_to_res_total_and_pay_amount.keys():\n",
    "            cancel_dates_to_res_total_and_pay_amount[cancel_dt] = np.array([0, 0]) # res_total_price and numRooms\n",
    "        cancel_dates_to_res_total_and_pay_amount[cancel_dt] += np.array([row['tot_price'], row['num_rooms']])\n",
    "\n",
    "    return cancel_dates_to_res_total_and_pay_amount"
   ]
  },
  {
   "cell_type": "code",
   "execution_count": 83,
   "metadata": {},
   "outputs": [
    {
     "data": {
      "text/plain": [
       "{Timestamp('2023-06-08 00:00:00'): array([7200,    4]),\n",
       " Timestamp('2023-04-20 00:00:00'): array([74243,    55])}"
      ]
     },
     "execution_count": 83,
     "metadata": {},
     "output_type": "execute_result"
    }
   ],
   "source": [
    "get_cancel_dates(df)"
   ]
  },
  {
   "cell_type": "code",
   "execution_count": 103,
   "metadata": {},
   "outputs": [],
   "source": [
    "def get_cf_df_from_res(df, res_type='all', date_index=True):\n",
    "    df = df.copy()\n",
    "    if res_type != 'all':\n",
    "        df = df[df['res_type']==int(res_type)]\n",
    "    df = df.groupby('cr_date').sum(numeric_only=True)\n",
    "    df = df[['tot_price', 'num_rooms']]\n",
    "    if not date_index:\n",
    "        df = df.reset_index()\n",
    "    return df"
   ]
  },
  {
   "cell_type": "code",
   "execution_count": null,
   "metadata": {},
   "outputs": [],
   "source": [
    "def get_cf_df_from_pay(df, res_type='all', date_index=True):\n",
    "    df = df.copy()\n",
    "    df = df.groupby('pay_date').sum(numeric_only=True)\n",
    "    df = df[['pay_amount']]\n",
    "    if not date_index:\n",
    "        df = df.reset_index()\n",
    "    return df"
   ]
  },
  {
   "cell_type": "code",
   "execution_count": 106,
   "metadata": {},
   "outputs": [
    {
     "data": {
      "text/html": [
       "<div>\n",
       "<style scoped>\n",
       "    .dataframe tbody tr th:only-of-type {\n",
       "        vertical-align: middle;\n",
       "    }\n",
       "\n",
       "    .dataframe tbody tr th {\n",
       "        vertical-align: top;\n",
       "    }\n",
       "\n",
       "    .dataframe thead th {\n",
       "        text-align: right;\n",
       "    }\n",
       "</style>\n",
       "<table border=\"1\" class=\"dataframe\">\n",
       "  <thead>\n",
       "    <tr style=\"text-align: right;\">\n",
       "      <th></th>\n",
       "      <th>tot_price</th>\n",
       "      <th>num_rooms</th>\n",
       "    </tr>\n",
       "    <tr>\n",
       "      <th>cr_date</th>\n",
       "      <th></th>\n",
       "      <th></th>\n",
       "    </tr>\n",
       "  </thead>\n",
       "  <tbody>\n",
       "    <tr>\n",
       "      <th>2023-01-01</th>\n",
       "      <td>29200</td>\n",
       "      <td>20</td>\n",
       "    </tr>\n",
       "    <tr>\n",
       "      <th>2023-02-01</th>\n",
       "      <td>7200</td>\n",
       "      <td>4</td>\n",
       "    </tr>\n",
       "    <tr>\n",
       "      <th>2023-03-01</th>\n",
       "      <td>74243</td>\n",
       "      <td>55</td>\n",
       "    </tr>\n",
       "  </tbody>\n",
       "</table>\n",
       "</div>"
      ],
      "text/plain": [
       "            tot_price  num_rooms\n",
       "cr_date                         \n",
       "2023-01-01      29200         20\n",
       "2023-02-01       7200          4\n",
       "2023-03-01      74243         55"
      ]
     },
     "execution_count": 106,
     "metadata": {},
     "output_type": "execute_result"
    }
   ],
   "source": [
    "cf_df_before_cancel = get_cf_df_from_res(df, res_type=1, date_index=True)"
   ]
  },
  {
   "cell_type": "code",
   "execution_count": null,
   "metadata": {},
   "outputs": [],
   "source": [
    "cf_df = "
   ]
  }
 ],
 "metadata": {
  "kernelspec": {
   "display_name": "Python 3",
   "language": "python",
   "name": "python3"
  },
  "language_info": {
   "codemirror_mode": {
    "name": "ipython",
    "version": 3
   },
   "file_extension": ".py",
   "mimetype": "text/x-python",
   "name": "python",
   "nbconvert_exporter": "python",
   "pygments_lexer": "ipython3",
   "version": "3.8.17"
  },
  "orig_nbformat": 4
 },
 "nbformat": 4,
 "nbformat_minor": 2
}
